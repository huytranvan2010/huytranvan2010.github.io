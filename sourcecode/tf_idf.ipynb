{
 "cells": [
  {
   "cell_type": "markdown",
   "metadata": {},
   "source": [
    "Ở đây đã đưa ra các documents hay texts đã được xử lý rồi. Bình thường nếu ở dạng thô nó sẽ là các đoạn văn chẳng hạn."
   ]
  },
  {
   "cell_type": "code",
   "execution_count": null,
   "metadata": {},
   "outputs": [],
   "source": [
    "# Ví dụ có raw text\n",
    "#  doc1 = \"anh yêu em nhiều lắm\"\n",
    "# doc2 = \"em không yêu anh\"\n",
    "# doc3 = \"chúng ta không yêu nhau\"\n",
    "\n",
    "# doc_1 = doc1.split()\n",
    "# doc_2 = doc2.split()\n",
    "# doc_3 = doc3.split()\n"
   ]
  },
  {
   "cell_type": "code",
   "execution_count": 8,
   "metadata": {},
   "outputs": [],
   "source": [
    "doc_1 = [\"red\", \"green\", \"blue\", \"yellow\", \"red\", \"red\"]\n",
    "doc_2 = [\"red\", \"pink\", \"white\", \"dark\", \"orange\", \"pink\"]\n",
    "doc_3 = [\"green\", \"yellow\", \"white\", \"white\", \"purpil\"]"
   ]
  },
  {
   "cell_type": "markdown",
   "metadata": {},
   "source": [
    "Đi tạo corpus"
   ]
  },
  {
   "cell_type": "code",
   "execution_count": 9,
   "metadata": {},
   "outputs": [
    {
     "data": {
      "text/plain": [
       "{'blue', 'dark', 'green', 'orange', 'pink', 'purpil', 'red', 'white', 'yellow'}"
      ]
     },
     "execution_count": 9,
     "metadata": {},
     "output_type": "execute_result"
    }
   ],
   "source": [
    "corpus = set(doc_1 + doc_2 + doc_3)\n",
    "corpus"
   ]
  },
  {
   "cell_type": "markdown",
   "metadata": {},
   "source": [
    "Đi tạo dictionay cho mỗi document với keys là các words, values là số lần xuất hiện của word trong document đó"
   ]
  },
  {
   "cell_type": "code",
   "execution_count": 10,
   "metadata": {},
   "outputs": [],
   "source": [
    "# https://www.w3schools.com/python/ref_dictionary_fromkeys.asp\n",
    "dict_doc_1 = dict.fromkeys(corpus, 0)\n",
    "dict_doc_2 = dict.fromkeys(corpus, 0)\n",
    "dict_doc_3 = dict.fromkeys(corpus, 0)\n"
   ]
  },
  {
   "cell_type": "code",
   "execution_count": 11,
   "metadata": {},
   "outputs": [
    {
     "data": {
      "text/plain": [
       "{'dark': 0,\n",
       " 'blue': 1,\n",
       " 'white': 0,\n",
       " 'orange': 0,\n",
       " 'green': 1,\n",
       " 'yellow': 1,\n",
       " 'red': 3,\n",
       " 'pink': 0,\n",
       " 'purpil': 0}"
      ]
     },
     "execution_count": 11,
     "metadata": {},
     "output_type": "execute_result"
    }
   ],
   "source": [
    "for word in doc_1:\n",
    "    dict_doc_1[word] += 1\n",
    "\n",
    "for word in doc_2:\n",
    "    dict_doc_2[word] += 1\n",
    "\n",
    "for word in doc_3:\n",
    "    dict_doc_3[word] += 1\n",
    "\n",
    "dict_doc_1"
   ]
  },
  {
   "cell_type": "markdown",
   "metadata": {},
   "source": [
    "Đi tạo DataFrame từ các dictionaries tương ứng với các documents. Chính xác là từ **list of dictionaries**. Khi đó các keys chính là các columns của dataframe. https://stackoverflow.com/questions/20638006/convert-list-of-dictionaries-to-a-pandas-dataframe"
   ]
  },
  {
   "cell_type": "code",
   "execution_count": 12,
   "metadata": {},
   "outputs": [
    {
     "data": {
      "text/html": [
       "<div>\n",
       "<style scoped>\n",
       "    .dataframe tbody tr th:only-of-type {\n",
       "        vertical-align: middle;\n",
       "    }\n",
       "\n",
       "    .dataframe tbody tr th {\n",
       "        vertical-align: top;\n",
       "    }\n",
       "\n",
       "    .dataframe thead th {\n",
       "        text-align: right;\n",
       "    }\n",
       "</style>\n",
       "<table border=\"1\" class=\"dataframe\">\n",
       "  <thead>\n",
       "    <tr style=\"text-align: right;\">\n",
       "      <th></th>\n",
       "      <th>dark</th>\n",
       "      <th>blue</th>\n",
       "      <th>white</th>\n",
       "      <th>orange</th>\n",
       "      <th>green</th>\n",
       "      <th>yellow</th>\n",
       "      <th>red</th>\n",
       "      <th>pink</th>\n",
       "      <th>purpil</th>\n",
       "    </tr>\n",
       "  </thead>\n",
       "  <tbody>\n",
       "    <tr>\n",
       "      <th>0</th>\n",
       "      <td>0</td>\n",
       "      <td>1</td>\n",
       "      <td>0</td>\n",
       "      <td>0</td>\n",
       "      <td>1</td>\n",
       "      <td>1</td>\n",
       "      <td>3</td>\n",
       "      <td>0</td>\n",
       "      <td>0</td>\n",
       "    </tr>\n",
       "    <tr>\n",
       "      <th>1</th>\n",
       "      <td>1</td>\n",
       "      <td>0</td>\n",
       "      <td>1</td>\n",
       "      <td>1</td>\n",
       "      <td>0</td>\n",
       "      <td>0</td>\n",
       "      <td>1</td>\n",
       "      <td>2</td>\n",
       "      <td>0</td>\n",
       "    </tr>\n",
       "    <tr>\n",
       "      <th>2</th>\n",
       "      <td>0</td>\n",
       "      <td>0</td>\n",
       "      <td>2</td>\n",
       "      <td>0</td>\n",
       "      <td>1</td>\n",
       "      <td>1</td>\n",
       "      <td>0</td>\n",
       "      <td>0</td>\n",
       "      <td>1</td>\n",
       "    </tr>\n",
       "  </tbody>\n",
       "</table>\n",
       "</div>"
      ],
      "text/plain": [
       "   dark  blue  white  orange  green  yellow  red  pink  purpil\n",
       "0     0     1      0       0      1       1    3     0       0\n",
       "1     1     0      1       1      0       0    1     2       0\n",
       "2     0     0      2       0      1       1    0     0       1"
      ]
     },
     "execution_count": 12,
     "metadata": {},
     "output_type": "execute_result"
    }
   ],
   "source": [
    "import pandas as pd\n",
    "\n",
    "df = pd.DataFrame([dict_doc_1, dict_doc_2, dict_doc_3])\n",
    "df.head()"
   ]
  },
  {
   "cell_type": "markdown",
   "metadata": {},
   "source": [
    "## Tính TF"
   ]
  },
  {
   "cell_type": "code",
   "execution_count": 13,
   "metadata": {},
   "outputs": [],
   "source": [
    "def TF(dict_doc, doc):\n",
    "    \"\"\" \n",
    "        Ở đây sẽ tính TF cho tất cả các từ trong trong document \n",
    "        dict_doc: dictionary cho document\n",
    "        doc: document - chính là list các từ trong document (có thể lặp)\n",
    "    \"\"\"\n",
    "    tf_dict = {}\n",
    "    # độ dài một đoạn text (document)\n",
    "    num_words = len(doc)\n",
    "    for word, count in dict_doc.items():\n",
    "        tf_dict[word] = count / num_words\n",
    "    return tf_dict\n",
    "\n"
   ]
  },
  {
   "cell_type": "code",
   "execution_count": 16,
   "metadata": {},
   "outputs": [
    {
     "data": {
      "text/plain": [
       "{'dark': 0.0,\n",
       " 'blue': 0.16666666666666666,\n",
       " 'white': 0.0,\n",
       " 'orange': 0.0,\n",
       " 'green': 0.16666666666666666,\n",
       " 'yellow': 0.16666666666666666,\n",
       " 'red': 0.5,\n",
       " 'pink': 0.0,\n",
       " 'purpil': 0.0}"
      ]
     },
     "execution_count": 16,
     "metadata": {},
     "output_type": "execute_result"
    }
   ],
   "source": [
    "tf_doc_1 = TF(dict_doc_1, doc_1)\n",
    "tf_doc_2 = TF(dict_doc_2, doc_2)\n",
    "tf_doc_3 = TF(dict_doc_3, doc_3)\n",
    "\n",
    "tf_doc_1\n"
   ]
  },
  {
   "cell_type": "markdown",
   "metadata": {},
   "source": [
    "**Chú ý**: Ở đây tf_doc cho mỗi document đều chứa tất cả các keys là các từ trong corpus. Nếu value của key nào bằng 0 chứng tỏ trong document đó không chứa key hay word đó."
   ]
  },
  {
   "cell_type": "code",
   "execution_count": 17,
   "metadata": {},
   "outputs": [
    {
     "data": {
      "text/plain": [
       "{'dark': 0.16666666666666666,\n",
       " 'blue': 0.0,\n",
       " 'white': 0.16666666666666666,\n",
       " 'orange': 0.16666666666666666,\n",
       " 'green': 0.0,\n",
       " 'yellow': 0.0,\n",
       " 'red': 0.16666666666666666,\n",
       " 'pink': 0.3333333333333333,\n",
       " 'purpil': 0.0}"
      ]
     },
     "execution_count": 17,
     "metadata": {},
     "output_type": "execute_result"
    }
   ],
   "source": [
    "# `pink` xuất hiện hai lần trong `doc_2` nên có TF lớn hơn gấp đôi các từ còn lại.\n",
    "tf_doc_2"
   ]
  },
  {
   "cell_type": "markdown",
   "metadata": {},
   "source": [
    "## Tính IDF\n",
    "\n",
    "$$idf(t, D) = \\log\\frac{|D|}{|{d \\in D: t \\in d}|}$$\n",
    "trong đó: \n",
    "- $|D|$ - tổng số văn bản trong corpus D (gồm nhiều văn bản)\n",
    "- $|{d \\in D: t \\in d}|$ - số văn bản chứa từ $t$ trong corpus D"
   ]
  },
  {
   "cell_type": "code",
   "execution_count": 20,
   "metadata": {},
   "outputs": [],
   "source": [
    "import math \n",
    "\n",
    "def IDF(corpus):\n",
    "    \"\"\"\n",
    "        corpus: corpus hay từ điển, ở đây là list các từ duy nhất\n",
    "        được lấy từ các documents\n",
    "        corpus chính là list of dictionaries cho mỗi document\n",
    "        Chú ý các keys của mỗi dictionary là như nhau và chính là các từ trong corpus\n",
    "        Đây là đặc điểm do chúng ta làm như vậy\n",
    "    \"\"\"\n",
    "    # kích thước corpus - tương ứng với |D| trong công thức\n",
    "    D = len(corpus)\n",
    "\n",
    "    # tạo dictionay với các keys là các từ trong corpus, values mặc định ban đầu bằng 0\n",
    "    dict_idf = dict.fromkeys(corpus[0].keys(), 0)\n",
    "\n",
    "    for doc in corpus:  # chúng ta truyền corpus là list of dictionaries của các doc\n",
    "        for word, val in doc.items():\n",
    "            # nếu word có trong doc đang xét sẽ tăng value của dict_idf lên 1, thể hiện nó xuất hiện trong doc\n",
    "            if val > 0:\n",
    "                dict_idf[word] += 1\n",
    "\n",
    "    for word, val in dict_idf.items():\n",
    "        dict_idf[word] = math.log(D / val)  # val ở đây thực chất là dict_idf[word]\n",
    "\n",
    "    # trả lại dict_idf - idf cho các từ trong corpus\n",
    "    return dict_idf\n",
    "    \n"
   ]
  },
  {
   "cell_type": "code",
   "execution_count": 22,
   "metadata": {},
   "outputs": [
    {
     "data": {
      "text/plain": [
       "{'dark': 1.0986122886681098,\n",
       " 'blue': 1.0986122886681098,\n",
       " 'white': 0.4054651081081644,\n",
       " 'orange': 1.0986122886681098,\n",
       " 'green': 0.4054651081081644,\n",
       " 'yellow': 0.4054651081081644,\n",
       " 'red': 0.4054651081081644,\n",
       " 'pink': 1.0986122886681098,\n",
       " 'purpil': 1.0986122886681098}"
      ]
     },
     "execution_count": 22,
     "metadata": {},
     "output_type": "execute_result"
    }
   ],
   "source": [
    "dict_idf = IDF([dict_doc_1, dict_doc_2, dict_doc_3])\n",
    "dict_idf"
   ]
  },
  {
   "cell_type": "markdown",
   "metadata": {},
   "source": [
    "## Tính TF-IDF\n",
    "\n",
    "$$\\text{TF-IDF}(t, d, D) = TF(t, d) \\times IDF(t, D)$$"
   ]
  },
  {
   "cell_type": "code",
   "execution_count": 23,
   "metadata": {},
   "outputs": [],
   "source": [
    "def TFIDF(tf, idf):\n",
    "    \"\"\"\n",
    "        tf: tf_dict_doc chính là dictionary lưu tf cho các từ trong doc (ở đây chứa tất cả các từ trong corpus)\n",
    "        idf: dict_idf chính là dictionary chứa idf của các từ trong corpus \n",
    "    \"\"\"\n",
    "    # tạo empty dictionary để lưu TF-IDF\n",
    "    tfidf = {}\n",
    "\n",
    "    for word, val in tf.items():\n",
    "        tfidf[word] = val * idf[word]\n",
    "    \n",
    "    return tfidf\n",
    "    "
   ]
  },
  {
   "cell_type": "code",
   "execution_count": 24,
   "metadata": {},
   "outputs": [],
   "source": [
    "tfidf_doc_1 = TFIDF(tf_doc_1, dict_idf)\n",
    "tfidf_doc_2 = TFIDF(tf_doc_2, dict_idf)\n",
    "tfidf_doc_3 = TFIDF(tf_doc_3, dict_idf)\n",
    "\n"
   ]
  },
  {
   "cell_type": "code",
   "execution_count": 25,
   "metadata": {},
   "outputs": [
    {
     "data": {
      "text/plain": [
       "{'dark': 0.0,\n",
       " 'blue': 0.1831020481113516,\n",
       " 'white': 0.0,\n",
       " 'orange': 0.0,\n",
       " 'green': 0.06757751801802739,\n",
       " 'yellow': 0.06757751801802739,\n",
       " 'red': 0.2027325540540822,\n",
       " 'pink': 0.0,\n",
       " 'purpil': 0.0}"
      ]
     },
     "execution_count": 25,
     "metadata": {},
     "output_type": "execute_result"
    }
   ],
   "source": [
    "tfidf_doc_1"
   ]
  },
  {
   "cell_type": "markdown",
   "metadata": {},
   "source": [
    "Gộp vào dataframe"
   ]
  },
  {
   "cell_type": "code",
   "execution_count": 26,
   "metadata": {},
   "outputs": [
    {
     "data": {
      "text/html": [
       "<div>\n",
       "<style scoped>\n",
       "    .dataframe tbody tr th:only-of-type {\n",
       "        vertical-align: middle;\n",
       "    }\n",
       "\n",
       "    .dataframe tbody tr th {\n",
       "        vertical-align: top;\n",
       "    }\n",
       "\n",
       "    .dataframe thead th {\n",
       "        text-align: right;\n",
       "    }\n",
       "</style>\n",
       "<table border=\"1\" class=\"dataframe\">\n",
       "  <thead>\n",
       "    <tr style=\"text-align: right;\">\n",
       "      <th></th>\n",
       "      <th>dark</th>\n",
       "      <th>blue</th>\n",
       "      <th>white</th>\n",
       "      <th>orange</th>\n",
       "      <th>green</th>\n",
       "      <th>yellow</th>\n",
       "      <th>red</th>\n",
       "      <th>pink</th>\n",
       "      <th>purpil</th>\n",
       "    </tr>\n",
       "  </thead>\n",
       "  <tbody>\n",
       "    <tr>\n",
       "      <th>0</th>\n",
       "      <td>0.000000</td>\n",
       "      <td>0.183102</td>\n",
       "      <td>0.000000</td>\n",
       "      <td>0.000000</td>\n",
       "      <td>0.067578</td>\n",
       "      <td>0.067578</td>\n",
       "      <td>0.202733</td>\n",
       "      <td>0.000000</td>\n",
       "      <td>0.000000</td>\n",
       "    </tr>\n",
       "    <tr>\n",
       "      <th>1</th>\n",
       "      <td>0.183102</td>\n",
       "      <td>0.000000</td>\n",
       "      <td>0.067578</td>\n",
       "      <td>0.183102</td>\n",
       "      <td>0.000000</td>\n",
       "      <td>0.000000</td>\n",
       "      <td>0.067578</td>\n",
       "      <td>0.366204</td>\n",
       "      <td>0.000000</td>\n",
       "    </tr>\n",
       "    <tr>\n",
       "      <th>2</th>\n",
       "      <td>0.000000</td>\n",
       "      <td>0.000000</td>\n",
       "      <td>0.162186</td>\n",
       "      <td>0.000000</td>\n",
       "      <td>0.081093</td>\n",
       "      <td>0.081093</td>\n",
       "      <td>0.000000</td>\n",
       "      <td>0.000000</td>\n",
       "      <td>0.219722</td>\n",
       "    </tr>\n",
       "  </tbody>\n",
       "</table>\n",
       "</div>"
      ],
      "text/plain": [
       "       dark      blue     white    orange     green    yellow       red  \\\n",
       "0  0.000000  0.183102  0.000000  0.000000  0.067578  0.067578  0.202733   \n",
       "1  0.183102  0.000000  0.067578  0.183102  0.000000  0.000000  0.067578   \n",
       "2  0.000000  0.000000  0.162186  0.000000  0.081093  0.081093  0.000000   \n",
       "\n",
       "       pink    purpil  \n",
       "0  0.000000  0.000000  \n",
       "1  0.366204  0.000000  \n",
       "2  0.000000  0.219722  "
      ]
     },
     "execution_count": 26,
     "metadata": {},
     "output_type": "execute_result"
    }
   ],
   "source": [
    "tfidf = pd.DataFrame([tfidf_doc_1, tfidf_doc_2, tfidf_doc_3])\n",
    "tfidf.head()"
   ]
  },
  {
   "cell_type": "markdown",
   "metadata": {},
   "source": [
    "Thật vậy với `doc_1` và từ `red` nhận thấy $tf(red, doc_1) = \\frac{3}{6} = 0.5$ và $idf(red, D) = \\log(\\frac{3}{2})$, do đó nhận được $tfidf(red, doc_1, corpus) = 0.202725$\n",
    "\n",
    "**Chú ý**: cái mình nhận được ở trên chính là **tf-vectorization**, mỗi docmument bây giờ được biểu diễn dưới dạng feature vector (tương tự như Bag of word) nhwung bây giờ với mỗi từ ta thay giá trị tf-idf của từ đó."
   ]
  }
 ],
 "metadata": {
  "interpreter": {
   "hash": "fc458615945d412e1fb8e7dd72596c89c36d85319531d60d8ad16416ed4ad137"
  },
  "kernelspec": {
   "display_name": "Python 3.8.5 64-bit ('gurus': conda)",
   "language": "python",
   "name": "python3"
  },
  "language_info": {
   "codemirror_mode": {
    "name": "ipython",
    "version": 3
   },
   "file_extension": ".py",
   "mimetype": "text/x-python",
   "name": "python",
   "nbconvert_exporter": "python",
   "pygments_lexer": "ipython3",
   "version": "3.8.5"
  },
  "orig_nbformat": 4
 },
 "nbformat": 4,
 "nbformat_minor": 2
}
